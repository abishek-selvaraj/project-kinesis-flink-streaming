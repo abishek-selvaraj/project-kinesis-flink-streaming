{
 "cells": [
  {
   "cell_type": "code",
   "execution_count": 1,
   "id": "cd7119a9",
   "metadata": {},
   "outputs": [],
   "source": [
    "import boto3\n",
    "import json\n",
    "import csv\n",
    "import dateutil.parser as parser\n",
    "from time import sleep\n",
    "from datetime import datetime"
   ]
  },
  {
   "cell_type": "code",
   "execution_count": 2,
   "id": "d81cd975",
   "metadata": {},
   "outputs": [],
   "source": [
    "kinesis_stream = \"us-accidents-streams-dev\"\n",
    "raw_file = r\"C:\\Users\\as1\\OneDrive - Capgemini\\Documents\\data_science\\projectpro\\de\\Build a real-time Streaming Data Pipeline using Flink and Kinesis\\Data\\US_Accidents_Dec20_updated.csv\"\n",
    "partition_key = \"Severity\""
   ]
  },
  {
   "cell_type": "code",
   "execution_count": 3,
   "id": "46f0a54a",
   "metadata": {},
   "outputs": [],
   "source": [
    "kinesis_client = boto3.client(\"kinesis\", region_name=\"ap-south-1\")"
   ]
  },
  {
   "cell_type": "code",
   "execution_count": 4,
   "id": "c8e11fec",
   "metadata": {},
   "outputs": [],
   "source": [
    "def data_stream_simulator():\n",
    "    \n",
    "    #read the csv file\n",
    "    with open(raw_file, 'r') as accident_data:\n",
    "        lines = accident_data.read().split('\\n')\n",
    "    \n",
    "    for row in csv.DictReader(lines[0:10]):\n",
    "        try:\n",
    "            line_json = json.dumps(row)\n",
    "            json_load = json.loads(line_json)\n",
    "\n",
    "            start_time_raw = parser.parse(json_load[\"Start_Time\"])\n",
    "            start_time_iso = start_time_raw.isoformat()\n",
    "            json_load.update({\"Start_Time\": start_time_iso})\n",
    "\n",
    "            end_time_raw = parser.parse(json_load[\"End_Time\"])\n",
    "            end_time_iso = end_time_raw.isoformat()\n",
    "            json_load.update({\"End_Time\": end_time_iso})\n",
    "\n",
    "            weather_time_raw = parser.parse(json_load['Weather_Timestamp'])\n",
    "            weather_time_iso = weather_time_raw.isoformat()\n",
    "            json_load.update({'Weather_Timestamp':weather_time_iso})\n",
    "\n",
    "            json_load['Txn_Timestamp'] = datetime.now().isoformat()\n",
    "\n",
    "            response = kinesis_client.put_record(StreamName=kinesis_stream, Data=json.dumps(json_load, indent=4), \n",
    "                                      PartitionKey=str(json_load[partition_key]))\n",
    "\n",
    "            sleep(1)\n",
    "            print(json_load[partition_key])\n",
    "            print(response)\n",
    "        except Exception as e:\n",
    "            print(f\"Error: {e}\")\n",
    "        "
   ]
  },
  {
   "cell_type": "code",
   "execution_count": 7,
   "id": "cf05ecf1",
   "metadata": {},
   "outputs": [
    {
     "name": "stdout",
     "output_type": "stream",
     "text": [
      "3\n",
      "{'ShardId': 'shardId-000000000003', 'SequenceNumber': '49638566425682099547892571947386153316344595309012189234', 'ResponseMetadata': {'RequestId': 'cc79ddb2-c063-6eca-9004-b847c1924930', 'HTTPStatusCode': 200, 'HTTPHeaders': {'x-amzn-requestid': 'cc79ddb2-c063-6eca-9004-b847c1924930', 'x-amz-id-2': '8GYhAiushV/h9kqCAWQmW3K4YBuoFJGfqAvAQpCibh4RAKaVEamlOfs3xU5gCV+Mdndpjm3e7LZiGpuipYy9gkr+rajdbkDlB6+eUbGGjI4=', 'date': 'Sat, 04 Mar 2023 15:28:53 GMT', 'content-type': 'application/x-amz-json-1.1', 'content-length': '110'}, 'RetryAttempts': 0}}\n",
      "2\n",
      "{'ShardId': 'shardId-000000000003', 'SequenceNumber': '49638566425682099547892571947387362242164210006906372146', 'ResponseMetadata': {'RequestId': 'f7f67fad-88c1-93f4-ab8b-1a5b8930b40e', 'HTTPStatusCode': 200, 'HTTPHeaders': {'x-amzn-requestid': 'f7f67fad-88c1-93f4-ab8b-1a5b8930b40e', 'x-amz-id-2': 'kdEbCpEG0dYA5BLr0n5Ervyi9Hfdwtopzv2joUU8coGNP1ppqSLwZ2YLSjbVvkwgzeNHYw4nVxdNoaYT1LF5ZME0npj4TnkHXx3BD7dia6k=', 'date': 'Sat, 04 Mar 2023 15:28:54 GMT', 'content-type': 'application/x-amz-json-1.1', 'content-length': '110'}, 'RetryAttempts': 0}}\n",
      "2\n",
      "{'ShardId': 'shardId-000000000003', 'SequenceNumber': '49638566425682099547892571947388571167983824704800555058', 'ResponseMetadata': {'RequestId': 'c770296e-57fe-f3bd-9b0d-4c99560fd447', 'HTTPStatusCode': 200, 'HTTPHeaders': {'x-amzn-requestid': 'c770296e-57fe-f3bd-9b0d-4c99560fd447', 'x-amz-id-2': 'rNlogO56XZmo+vlrTjc2NzZ8KGaVCDJCuuTbk6r1AneWaFHf2uNPfBMrvoG97/IqFw9yWNGf8zGqg+3Gw2uO5/vHHyXYaXimz+ADzRWVpqM=', 'date': 'Sat, 04 Mar 2023 15:28:55 GMT', 'content-type': 'application/x-amz-json-1.1', 'content-length': '110'}, 'RetryAttempts': 0}}\n",
      "2\n",
      "{'ShardId': 'shardId-000000000003', 'SequenceNumber': '49638566425682099547892571947389780093803439402694737970', 'ResponseMetadata': {'RequestId': 'de46fa2a-eb3d-7b51-823b-9fd2eacc5cab', 'HTTPStatusCode': 200, 'HTTPHeaders': {'x-amzn-requestid': 'de46fa2a-eb3d-7b51-823b-9fd2eacc5cab', 'x-amz-id-2': 'TuBQnAOME6IZeKK7zLhRyVvmCymOZCAw8skfvaaxQXE+skrlzM06Q3gqX0HCRrreoG0D21d4j5gbZA4xOPzqUW1wM4W1rwCbkjSJ+Fy7xPQ=', 'date': 'Sat, 04 Mar 2023 15:28:56 GMT', 'content-type': 'application/x-amz-json-1.1', 'content-length': '110'}, 'RetryAttempts': 0}}\n",
      "2\n",
      "{'ShardId': 'shardId-000000000003', 'SequenceNumber': '49638566425682099547892571947390989019623054100588920882', 'ResponseMetadata': {'RequestId': 'defa7ed0-0411-c59e-8287-1b2905e0e264', 'HTTPStatusCode': 200, 'HTTPHeaders': {'x-amzn-requestid': 'defa7ed0-0411-c59e-8287-1b2905e0e264', 'x-amz-id-2': 'gASDcAGbN5iD6luMlZD2CM8XYGeguQhggATprgnPD6aC6A19cvmekziX5QdxNU+lD/57Ml2ecpmKrmBnweTCXV6J8Zp4cBu5MFkw2rbsplA=', 'date': 'Sat, 04 Mar 2023 15:28:57 GMT', 'content-type': 'application/x-amz-json-1.1', 'content-length': '110'}, 'RetryAttempts': 0}}\n",
      "3\n",
      "{'ShardId': 'shardId-000000000003', 'SequenceNumber': '49638566425682099547892571947392197945442668798483103794', 'ResponseMetadata': {'RequestId': 'f8ccf662-3055-219c-a4b1-939831a40666', 'HTTPStatusCode': 200, 'HTTPHeaders': {'x-amzn-requestid': 'f8ccf662-3055-219c-a4b1-939831a40666', 'x-amz-id-2': 'XwDe9njK1oKor5Y5iglKEkNgxUFEqEUyniQX1W8W7ayX/g6QyU44FAXiKzyjEJ0eGdIeKTWyJsAbaLSX4QWczUfOm4RDLYxLwFDGTx8KZ1A=', 'date': 'Sat, 04 Mar 2023 15:28:58 GMT', 'content-type': 'application/x-amz-json-1.1', 'content-length': '110'}, 'RetryAttempts': 0}}\n",
      "2\n",
      "{'ShardId': 'shardId-000000000003', 'SequenceNumber': '49638566425682099547892571947393406871262283496377286706', 'ResponseMetadata': {'RequestId': 'dcd18f7e-858d-151e-80ac-ea85847c32e4', 'HTTPStatusCode': 200, 'HTTPHeaders': {'x-amzn-requestid': 'dcd18f7e-858d-151e-80ac-ea85847c32e4', 'x-amz-id-2': 'qkQPtFpn/g/9El2eFWRhxszwC+f9dG5Gw0SItHjr+q0hYBNy0B5/UTgRC0ayEtgChaMJD47RpeRul/+2N4TwMwkzPk6sStDhKbkq/ghmQuA=', 'date': 'Sat, 04 Mar 2023 15:28:59 GMT', 'content-type': 'application/x-amz-json-1.1', 'content-length': '110'}, 'RetryAttempts': 0}}\n",
      "2\n",
      "{'ShardId': 'shardId-000000000003', 'SequenceNumber': '49638566425682099547892571947394615797081898194271469618', 'ResponseMetadata': {'RequestId': 'd1ce36f1-967e-5bbe-8db3-530d978f7c44', 'HTTPStatusCode': 200, 'HTTPHeaders': {'x-amzn-requestid': 'd1ce36f1-967e-5bbe-8db3-530d978f7c44', 'x-amz-id-2': 'eX/Cq349/DN/HbZ6lU4QKUPoSF1RCMNFmUsfupx6mF4cCShrEC1rHy6bFGN1XlgWyCPoaNT7j4dLn2Sn0y4u2FCOMY8F6nsb6HWMU9Ff+ug=', 'date': 'Sat, 04 Mar 2023 15:29:00 GMT', 'content-type': 'application/x-amz-json-1.1', 'content-length': '110'}, 'RetryAttempts': 0}}\n",
      "2\n",
      "{'ShardId': 'shardId-000000000003', 'SequenceNumber': '49638566425682099547892571947395824722901512892165652530', 'ResponseMetadata': {'RequestId': 'db804fb0-1214-1b08-87fd-2a4d13e53cf2', 'HTTPStatusCode': 200, 'HTTPHeaders': {'x-amzn-requestid': 'db804fb0-1214-1b08-87fd-2a4d13e53cf2', 'x-amz-id-2': 'dZADe/vQ9GjdS/zuL92coY8XE5s1H9DiGVyFZ7pPkgHfKC6lEkiKdy/j7LU4mzstXctG3iAv6nCSg7g9kEZBW/dqaZtIGDJ/1wbaZ46c924=', 'date': 'Sat, 04 Mar 2023 15:29:01 GMT', 'content-type': 'application/x-amz-json-1.1', 'content-length': '110'}, 'RetryAttempts': 0}}\n"
     ]
    }
   ],
   "source": [
    "data_stream_simulator()"
   ]
  },
  {
   "cell_type": "code",
   "execution_count": null,
   "id": "9f13f427",
   "metadata": {},
   "outputs": [],
   "source": []
  }
 ],
 "metadata": {
  "kernelspec": {
   "display_name": "Python 3 (ipykernel)",
   "language": "python",
   "name": "python3"
  },
  "language_info": {
   "codemirror_mode": {
    "name": "ipython",
    "version": 3
   },
   "file_extension": ".py",
   "mimetype": "text/x-python",
   "name": "python",
   "nbconvert_exporter": "python",
   "pygments_lexer": "ipython3",
   "version": "3.9.12"
  }
 },
 "nbformat": 4,
 "nbformat_minor": 5
}
